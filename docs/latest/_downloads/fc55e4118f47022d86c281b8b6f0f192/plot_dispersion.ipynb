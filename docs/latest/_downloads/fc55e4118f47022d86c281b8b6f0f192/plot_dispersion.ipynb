{
  "cells": [
    {
      "cell_type": "markdown",
      "metadata": {},
      "source": [
        "\n# Dispersion VS core index\n"
      ]
    },
    {
      "cell_type": "markdown",
      "metadata": {},
      "source": [
        "## Imports\n\n"
      ]
    },
    {
      "cell_type": "code",
      "execution_count": null,
      "metadata": {
        "collapsed": false
      },
      "outputs": [],
      "source": [
        "from PyFiberModes import FiberFactory, HE11, HE12, HE22\nimport matplotlib.pyplot as plt\nimport numpy"
      ]
    },
    {
      "cell_type": "markdown",
      "metadata": {},
      "source": [
        "## Generating the fiber structures\nHere we create the different fiber design that we want to explore\n\n"
      ]
    },
    {
      "cell_type": "code",
      "execution_count": null,
      "metadata": {
        "collapsed": false
      },
      "outputs": [],
      "source": [
        "core_indexes = numpy.linspace(1.464, 1.494, 100)\nfactory = FiberFactory(wavelength=1550e-9)\nfactory.add_layer(name=\"core\", radius=4e-6, index=core_indexes)\nfactory.add_layer(name=\"cladding\", index=1.4444)"
      ]
    },
    {
      "cell_type": "markdown",
      "metadata": {},
      "source": [
        "Preparing the figure\n\n"
      ]
    },
    {
      "cell_type": "code",
      "execution_count": null,
      "metadata": {
        "collapsed": false
      },
      "outputs": [],
      "source": [
        "figure, ax = plt.subplots(1, 1)\n\nax.set(\n    title='Dispersion vs core index',\n    xlabel='Core refractive index',\n    ylabel='Modal dispersion'\n)\n\nfor mode in [HE11, HE12, HE22]:\n    data = []\n    for fiber in factory:\n        effective_index = fiber.get_dispersion(mode)\n        data.append(effective_index)\n\n    ax.plot(core_indexes, data, label=str(mode))\n\nplt.legend()\nplt.show()\n\n# -"
      ]
    }
  ],
  "metadata": {
    "kernelspec": {
      "display_name": "Python 3",
      "language": "python",
      "name": "python3"
    },
    "language_info": {
      "codemirror_mode": {
        "name": "ipython",
        "version": 3
      },
      "file_extension": ".py",
      "mimetype": "text/x-python",
      "name": "python",
      "nbconvert_exporter": "python",
      "pygments_lexer": "ipython3",
      "version": "3.11.13"
    }
  },
  "nbformat": 4,
  "nbformat_minor": 0
}