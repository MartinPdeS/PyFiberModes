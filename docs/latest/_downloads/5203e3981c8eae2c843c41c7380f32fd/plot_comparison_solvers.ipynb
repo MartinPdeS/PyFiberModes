{
  "cells": [
    {
      "cell_type": "markdown",
      "metadata": {},
      "source": [
        "\n# Comparing two and three layers\n"
      ]
    },
    {
      "cell_type": "markdown",
      "metadata": {},
      "source": [
        "## Imports\n\n"
      ]
    },
    {
      "cell_type": "code",
      "execution_count": null,
      "metadata": {
        "collapsed": false
      },
      "outputs": [],
      "source": [
        "import numpy\n\nfrom PyFiberModes.fiber import load_fiber\nfrom PyFiberModes import LP01\nimport matplotlib.pyplot as plt\n\nfiber_2L = load_fiber(\n    fiber_name='SMF28',\n    wavelength=1550e-9,\n    add_air_layer=False\n)\n\nfiber_3L = load_fiber(\n    fiber_name='SMF28',\n    wavelength=1550e-9,\n    add_air_layer=True\n)\n\n\ndata_2L = []\ndata_3L = []\n\nitr_list = numpy.linspace(1.0, 0.3, 50)\n\nfor j, itr in enumerate(itr_list):\n    _fiber_2L = fiber_2L.scale(factor=itr)\n    _fiber_3L = fiber_3L.scale(factor=itr)\n\n    neff_2L = _fiber_2L.get_effective_index(mode=LP01)\n    neff_3L = _fiber_3L.get_effective_index(mode=LP01)\n\n    data_2L.append(neff_2L)\n    data_3L.append(neff_3L)\n\n\nfigure, ax = plt.subplots(1, 1, figsize=(10, 6))\n\nax.set_xlabel('Inverse taper ratio [ITR]')\nax.set_ylabel('LP01 effective index')\nax.plot(itr_list, data_2L, label='2 layer', linewidth=3)\nax.plot(itr_list, data_3L, label='3 layer', marker='o', markersize=5)\n\nplt.show()\n\n# -"
      ]
    }
  ],
  "metadata": {
    "kernelspec": {
      "display_name": "Python 3",
      "language": "python",
      "name": "python3"
    },
    "language_info": {
      "codemirror_mode": {
        "name": "ipython",
        "version": 3
      },
      "file_extension": ".py",
      "mimetype": "text/x-python",
      "name": "python",
      "nbconvert_exporter": "python",
      "pygments_lexer": "ipython3",
      "version": "3.11.13"
    }
  },
  "nbformat": 4,
  "nbformat_minor": 0
}