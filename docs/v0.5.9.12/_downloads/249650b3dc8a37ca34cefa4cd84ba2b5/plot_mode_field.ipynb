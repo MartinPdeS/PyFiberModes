{
  "cells": [
    {
      "cell_type": "markdown",
      "metadata": {},
      "source": [
        "\n# Mode fields\n"
      ]
    },
    {
      "cell_type": "markdown",
      "metadata": {},
      "source": [
        "## Imports\n\n"
      ]
    },
    {
      "cell_type": "code",
      "execution_count": null,
      "metadata": {
        "collapsed": false
      },
      "outputs": [],
      "source": [
        "from PyFiberModes import HE11, LP01, LP11\nfrom PyFiberModes.field import Field\nfrom PyFiberModes.fiber import load_fiber\nimport matplotlib.pyplot as plt"
      ]
    },
    {
      "cell_type": "markdown",
      "metadata": {},
      "source": [
        "## Generating the fiber structures\nHere we create the different fiber design that we want to explore\n\n"
      ]
    },
    {
      "cell_type": "code",
      "execution_count": null,
      "metadata": {
        "collapsed": false
      },
      "outputs": [],
      "source": [
        "fiber = load_fiber('SMF28', wavelength=1310e-9)"
      ]
    },
    {
      "cell_type": "markdown",
      "metadata": {},
      "source": [
        "Preparing the figure\n\n"
      ]
    },
    {
      "cell_type": "code",
      "execution_count": null,
      "metadata": {
        "collapsed": false
      },
      "outputs": [],
      "source": [
        "figure, ax = plt.subplots(1, 1)\n\nax.set(\n    title='Mode fields for vectorial mode if x-direction',\n    xlabel='Radius',\n    ylabel='Amplitude'\n)\n\nfor mode in [HE11, LP01, LP11]:\n\n    field = Field(\n        fiber=fiber,\n        mode=mode,\n        limit=10e-6,\n        n_point=101\n    )\n\n    Ex = field.Ex()\n    max_abs = abs(max(Ex.max(), Ex.min()))\n    ax.pcolormesh(Ex, vmin=-max_abs, vmax=max_abs)\n\n\nplt.show()\n\n# -"
      ]
    }
  ],
  "metadata": {
    "kernelspec": {
      "display_name": "Python 3",
      "language": "python",
      "name": "python3"
    },
    "language_info": {
      "codemirror_mode": {
        "name": "ipython",
        "version": 3
      },
      "file_extension": ".py",
      "mimetype": "text/x-python",
      "name": "python",
      "nbconvert_exporter": "python",
      "pygments_lexer": "ipython3",
      "version": "3.11.10"
    }
  },
  "nbformat": 4,
  "nbformat_minor": 0
}