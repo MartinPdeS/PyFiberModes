{
  "cells": [
    {
      "cell_type": "markdown",
      "metadata": {},
      "source": [
        "\n# Effective index VS core index\n"
      ]
    },
    {
      "cell_type": "markdown",
      "metadata": {},
      "source": [
        "## Imports\n\n"
      ]
    },
    {
      "cell_type": "code",
      "execution_count": null,
      "metadata": {
        "collapsed": false
      },
      "outputs": [],
      "source": [
        "from PyFiberModes import FiberFactory, HE11, HE12, HE22\nfrom MPSPlots.render2D import SceneList\nimport numpy"
      ]
    },
    {
      "cell_type": "markdown",
      "metadata": {},
      "source": [
        "## Generating the fiber structures\nHere we create the different fiber design that we want to explore\n\n"
      ]
    },
    {
      "cell_type": "code",
      "execution_count": null,
      "metadata": {
        "collapsed": false
      },
      "outputs": [],
      "source": [
        "core_indexes = numpy.linspace(1.464, 1.494)\nfactory = FiberFactory()\nfactory.addLayer(name=\"core\", radius=4e-6, index=core_indexes)\nfactory.addLayer(name=\"cladding\", index=1.4444)"
      ]
    },
    {
      "cell_type": "markdown",
      "metadata": {},
      "source": [
        "Preparing the figure\n\n"
      ]
    },
    {
      "cell_type": "code",
      "execution_count": null,
      "metadata": {
        "collapsed": false
      },
      "outputs": [],
      "source": [
        "figure = SceneList(title='Effective index vs core index')\n\nax = figure.append_ax(show_legend=True)\n\nfor mode in [HE11, HE12, HE22]:\n    neff = []\n    for fiber in factory:\n        effective_index = fiber.neff(mode, 1550e-9)\n        neff.append(effective_index)\n\n    ax.add_line(\n        x=core_indexes,\n        y=neff,\n        label=mode,\n        line_width=2\n    )\n\nfigure.show()\n\n# -"
      ]
    }
  ],
  "metadata": {
    "kernelspec": {
      "display_name": "Python 3",
      "language": "python",
      "name": "python3"
    },
    "language_info": {
      "codemirror_mode": {
        "name": "ipython",
        "version": 3
      },
      "file_extension": ".py",
      "mimetype": "text/x-python",
      "name": "python",
      "nbconvert_exporter": "python",
      "pygments_lexer": "ipython3",
      "version": "3.11.0"
    }
  },
  "nbformat": 4,
  "nbformat_minor": 0
}