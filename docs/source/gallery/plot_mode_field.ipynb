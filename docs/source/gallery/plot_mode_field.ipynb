{
  "cells": [
    {
      "cell_type": "markdown",
      "metadata": {},
      "source": [
        "\n# Mode fields\n"
      ]
    },
    {
      "cell_type": "markdown",
      "metadata": {},
      "source": [
        "## Imports\n\n"
      ]
    },
    {
      "cell_type": "code",
      "execution_count": null,
      "metadata": {
        "collapsed": false
      },
      "outputs": [],
      "source": [
        "from PyFiberModes import FiberFactory, HE11, HE12, HE22, LP01\nfrom PyFiberModes.field import Field\nfrom MPSPlots.render2D import SceneList"
      ]
    },
    {
      "cell_type": "markdown",
      "metadata": {},
      "source": [
        "## Generating the fiber structures\nHere we create the different fiber design that we want to explore\n\n"
      ]
    },
    {
      "cell_type": "code",
      "execution_count": null,
      "metadata": {
        "collapsed": false
      },
      "outputs": [],
      "source": [
        "core_indexes = 1.54\nfactory = FiberFactory()\nfactory.add_layer(name=\"core\", radius=4e-6, index=core_indexes)\nfactory.add_layer(name=\"cladding\", index=1.4444)"
      ]
    },
    {
      "cell_type": "markdown",
      "metadata": {},
      "source": [
        "Preparing the figure\n\n"
      ]
    },
    {
      "cell_type": "code",
      "execution_count": null,
      "metadata": {
        "collapsed": false
      },
      "outputs": [],
      "source": [
        "figure = SceneList(\n    title='Mode fields for vectorial mode if x-direction',\n    unit_size=(4, 4),\n    ax_orientation='horizontal'\n)\n\nfor mode in [HE11, HE12, HE22, LP01]:\n    fiber = factory[0]\n\n    field = Field(\n        fiber=fiber,\n        mode=mode,\n        wavelength=1550e-9,\n        limit=10e-6,\n        n_point=101\n    )\n\n    ax = figure.append_ax(title=mode)\n\n    e_x = field.Ex()\n\n    ax.add_mesh(scalar=e_x)\n\n    ax.add_colorbar(symmetric=True)\n\nfigure.show()\n\n# -"
      ]
    }
  ],
  "metadata": {
    "kernelspec": {
      "display_name": "Python 3",
      "language": "python",
      "name": "python3"
    },
    "language_info": {
      "codemirror_mode": {
        "name": "ipython",
        "version": 3
      },
      "file_extension": ".py",
      "mimetype": "text/x-python",
      "name": "python",
      "nbconvert_exporter": "python",
      "pygments_lexer": "ipython3",
      "version": "3.11.0"
    }
  },
  "nbformat": 4,
  "nbformat_minor": 0
}