{
  "cells": [
    {
      "cell_type": "markdown",
      "metadata": {},
      "source": [
        "\n# Modal dispersion VS core index\n"
      ]
    },
    {
      "cell_type": "markdown",
      "metadata": {},
      "source": [
        "## Imports\n\n"
      ]
    },
    {
      "cell_type": "code",
      "execution_count": null,
      "metadata": {
        "collapsed": false
      },
      "outputs": [],
      "source": [
        "from PyFiberModes import FiberFactory, HE11, HE12, LP01\nfrom PyFiberModes.fiber import load_fiber\nfrom MPSPlots.render2D import SceneList\nimport numpy"
      ]
    },
    {
      "cell_type": "markdown",
      "metadata": {},
      "source": [
        "## Generating the fiber structures\nHere we create the different fiber design that we want to explore\n\n"
      ]
    },
    {
      "cell_type": "code",
      "execution_count": null,
      "metadata": {
        "collapsed": false
      },
      "outputs": [],
      "source": [
        "wavelength_list = numpy.linspace(1310e-9, 1550e-9, 10)\n\n\n\n\n\n\n\n\n\n\n\n\n# core_indexes = numpy.linspace(1.464, 1.494, 100)\n# factory = FiberFactory()\n# factory.add_layer(name=\"core\", radius=4e-6, index=core_indexes)\n# factory.add_layer(name=\"cladding lol\", index=1.4464, radius=20e-6)\n# factory.add_layer(name=\"yo\", index=1.4484, radius=32.5e-6)\n# fiber_test = factory[0]\n\n# print(fiber_test)\n\n# data = []\n\n# smf28 = load_fiber(fiber_name='SMF28', wavelength=1550e-9)\n\n# print('\\n\\n')\n# print(smf28)\n\n# effective_index = smf28.get_effective_index(\n#     mode=LP01,\n#     wavelength=1550e-9\n# )\n\n# print(effective_index)\n\n\n\n\n\n\n\n\n\n\n\n\n\n\n\n\n# for wavelength in wavelength_list:\n#     smf28 = load_fiber(fiber_name='SMF28', wavelength=wavelength)\n\n#     effective_index = smf28.get_effective_index(\n#         mode=LP01,\n#         wavelength=wavelength\n#     )\n\n#     data.append(effective_index)"
      ]
    },
    {
      "cell_type": "markdown",
      "metadata": {},
      "source": [
        "Preparing the figure\n\n"
      ]
    },
    {
      "cell_type": "code",
      "execution_count": null,
      "metadata": {
        "collapsed": false
      },
      "outputs": [],
      "source": [
        "figure = SceneList(title='Modal dispersion vs core index')\n\nax = figure.append_ax(show_legend=True)\n# ax.add_line(\n#     # x=core_indexes,\n#     y=data,\n#     # label=mode,\n#     line_width=2\n# )\n\n# figure.show()\n\n# -"
      ]
    }
  ],
  "metadata": {
    "kernelspec": {
      "display_name": "Python 3",
      "language": "python",
      "name": "python3"
    },
    "language_info": {
      "codemirror_mode": {
        "name": "ipython",
        "version": 3
      },
      "file_extension": ".py",
      "mimetype": "text/x-python",
      "name": "python",
      "nbconvert_exporter": "python",
      "pygments_lexer": "ipython3",
      "version": "3.11.0"
    }
  },
  "nbformat": 4,
  "nbformat_minor": 0
}