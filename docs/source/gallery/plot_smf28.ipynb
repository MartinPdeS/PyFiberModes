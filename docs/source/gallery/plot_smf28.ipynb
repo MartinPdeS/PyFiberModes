{
  "cells": [
    {
      "cell_type": "markdown",
      "metadata": {},
      "source": [
        "\n# Modal dispersion VS core index\n"
      ]
    },
    {
      "cell_type": "markdown",
      "metadata": {},
      "source": [
        "## Imports\n\n"
      ]
    },
    {
      "cell_type": "code",
      "execution_count": null,
      "metadata": {
        "collapsed": false
      },
      "outputs": [],
      "source": [
        "from PyFiberModes import FiberFactory, HE11, HE12, LP01, LP11, LP02\nfrom PyFiberModes.fiber import load_fiber\nfrom MPSPlots.render2D import SceneList\nimport numpy"
      ]
    },
    {
      "cell_type": "markdown",
      "metadata": {},
      "source": [
        "## Generating the fiber structures\nHere we create the different fiber design that we want to explore\n\n"
      ]
    },
    {
      "cell_type": "code",
      "execution_count": null,
      "metadata": {
        "collapsed": false
      },
      "outputs": [],
      "source": [
        "wavelength_list = numpy.linspace(1310e-9, 1550e-9, 10)\n\nsmf28 = load_fiber(fiber_name='DCF1300S_20', wavelength=1550e-9)\n\neffective_index = smf28.get_effective_index(\n    mode=HE11,\n    wavelength=1550e-9\n)\n\nprint(effective_index)\n# -"
      ]
    }
  ],
  "metadata": {
    "kernelspec": {
      "display_name": "Python 3",
      "language": "python",
      "name": "python3"
    },
    "language_info": {
      "codemirror_mode": {
        "name": "ipython",
        "version": 3
      },
      "file_extension": ".py",
      "mimetype": "text/x-python",
      "name": "python",
      "nbconvert_exporter": "python",
      "pygments_lexer": "ipython3",
      "version": "3.11.0"
    }
  },
  "nbformat": 4,
  "nbformat_minor": 0
}