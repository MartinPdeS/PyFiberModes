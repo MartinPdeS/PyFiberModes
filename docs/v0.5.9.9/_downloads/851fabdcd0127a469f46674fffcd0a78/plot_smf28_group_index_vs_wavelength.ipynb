{
  "cells": [
    {
      "cell_type": "markdown",
      "metadata": {},
      "source": [
        "\n# Modal dispersion VS core index\n"
      ]
    },
    {
      "cell_type": "markdown",
      "metadata": {},
      "source": [
        "## Imports\n\n"
      ]
    },
    {
      "cell_type": "code",
      "execution_count": null,
      "metadata": {
        "collapsed": false
      },
      "outputs": [],
      "source": [
        "import numpy\nfrom PyFiberModes import LP01\nfrom PyFiberModes.fiber import load_fiber\nimport matplotlib.pyplot as plt"
      ]
    },
    {
      "cell_type": "markdown",
      "metadata": {},
      "source": [
        "## Generating the fiber structures\nHere we create the different fiber design that we want to explore\n\n"
      ]
    },
    {
      "cell_type": "code",
      "execution_count": null,
      "metadata": {
        "collapsed": false
      },
      "outputs": [],
      "source": [
        "wavelength_list = numpy.linspace(500e-9, 3000e-9, 100)\ndata = []\nfor wavelegnth in wavelength_list:\n    smf28 = load_fiber(fiber_name='SMF28', wavelength=wavelegnth)\n    dispersion = smf28.get_effective_index(mode=LP01)\n    data.append(dispersion)\n\n\nfigure, ax = plt.subplots(1, 1)\n\nax.set(\n    title='Mode fields for vectorial mode if x-direction',\n    xlabel=r'Wavelength [$\\mu m$]',\n    ylabel='Group index',\n)\n\n\nax.plot(wavelength_list, data)\n\nplt.show()\n# -"
      ]
    }
  ],
  "metadata": {
    "kernelspec": {
      "display_name": "Python 3",
      "language": "python",
      "name": "python3"
    },
    "language_info": {
      "codemirror_mode": {
        "name": "ipython",
        "version": 3
      },
      "file_extension": ".py",
      "mimetype": "text/x-python",
      "name": "python",
      "nbconvert_exporter": "python",
      "pygments_lexer": "ipython3",
      "version": "3.11.10"
    }
  },
  "nbformat": 4,
  "nbformat_minor": 0
}