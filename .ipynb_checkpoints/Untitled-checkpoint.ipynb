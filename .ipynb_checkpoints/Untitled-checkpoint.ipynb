{
 "cells": [
  {
   "cell_type": "code",
   "execution_count": 5,
   "id": "7cd12c8d-3486-47f3-8918-3db1d74d29bf",
   "metadata": {},
   "outputs": [],
   "source": [
    "from itertools import product"
   ]
  },
  {
   "cell_type": "code",
   "execution_count": 1,
   "id": "455bc22c-42ab-4938-957e-2e16b15ad095",
   "metadata": {},
   "outputs": [],
   "source": [
    "class layer:\n",
    "    pass\n",
    "\n"
   ]
  },
  {
   "cell_type": "code",
   "execution_count": 8,
   "id": "73c24d61-29e7-40c3-8522-6905d753f111",
   "metadata": {},
   "outputs": [],
   "source": [
    "core = layer()\n",
    "core.name = 'core'\n",
    "core.radius = [10, 20]\n",
    "core.index = [1,2, 3, 4]\n",
    "\n",
    "clad = layer()\n",
    "clad.name = 'clad'\n",
    "clad.radius = [60]\n",
    "clad.index = [1]"
   ]
  },
  {
   "cell_type": "code",
   "execution_count": 10,
   "id": "fa8398d6-64da-4614-a29c-fd6c1e6a1690",
   "metadata": {},
   "outputs": [
    {
     "data": {
      "text/plain": [
       "[(10, 1), (10, 2), (10, 3), (10, 4), (20, 1), (20, 2), (20, 3), (20, 4)]"
      ]
     },
     "execution_count": 10,
     "metadata": {},
     "output_type": "execute_result"
    }
   ],
   "source": [
    "prod = product(core.radius, core.index)\n",
    "\n",
    "list(prod)"
   ]
  },
  {
   "cell_type": "code",
   "execution_count": 11,
   "id": "fec91969-51e6-4e3f-a3a7-3c10ddf782fa",
   "metadata": {},
   "outputs": [
    {
     "ename": "SyntaxError",
     "evalue": "non-default argument follows default argument (1052384099.py, line 13)",
     "output_type": "error",
     "traceback": [
      "\u001b[0;36m  Cell \u001b[0;32mIn [11], line 13\u001b[0;36m\u001b[0m\n\u001b[0;31m    index) -> None:\u001b[0m\n\u001b[0m    ^\u001b[0m\n\u001b[0;31mSyntaxError\u001b[0m\u001b[0;31m:\u001b[0m non-default argument follows default argument\n"
     ]
    }
   ],
   "source": [
    "class FiberFactory():\n",
    "    def __init__(self):\n",
    "        self.layers_list = []\n",
    "        self.neff_solver = None\n",
    "        self.cutoff_solver = None\n",
    "\n",
    "    def add_layer(self,\n",
    "            index: float,\n",
    "            name: str = \"\",\n",
    "            radius: float = 0,\n",
    "            material: str = \"Fixed\",\n",
    "            geometry: str = \"StepIndex\") -> None:\n",
    "\n",
    "        layer = {\n",
    "            \"name\": name,\n",
    "            \"type\": geometry,\n",
    "            \"tparams\": [radius],\n",
    "            \"material\": material,\n",
    "            \"material_parameters\": [index],\n",
    "        }\n",
    "\n",
    "        self.layers_list.append(layer)"
   ]
  },
  {
   "cell_type": "code",
   "execution_count": null,
   "id": "7a28401f-4898-4129-b615-fbb21d5f8891",
   "metadata": {},
   "outputs": [],
   "source": []
  },
  {
   "cell_type": "code",
   "execution_count": null,
   "id": "b1d61025-db2e-4424-8ab6-c423f1c3c94e",
   "metadata": {},
   "outputs": [],
   "source": []
  },
  {
   "cell_type": "code",
   "execution_count": 18,
   "id": "4a26dcfb-2260-4901-9dff-964b9b610d6b",
   "metadata": {},
   "outputs": [
    {
     "data": {
      "text/plain": [
       "3"
      ]
     },
     "execution_count": 18,
     "metadata": {},
     "output_type": "execute_result"
    }
   ],
   "source": [
    "dic = {'a': 1, 'b': [1,2,3]}\n",
    "\n",
    "dic.pop('c', 3)\n"
   ]
  },
  {
   "cell_type": "code",
   "execution_count": null,
   "id": "ac6195d8-879e-4da3-9a2f-205970fda9ed",
   "metadata": {},
   "outputs": [],
   "source": []
  }
 ],
 "metadata": {
  "kernelspec": {
   "display_name": "IPython3.10",
   "language": "python",
   "name": "python3"
  },
  "language_info": {
   "codemirror_mode": {
    "name": "ipython",
    "version": 3
   },
   "file_extension": ".py",
   "mimetype": "text/x-python",
   "name": "python",
   "nbconvert_exporter": "python",
   "pygments_lexer": "ipython3",
   "version": "3.10.9"
  }
 },
 "nbformat": 4,
 "nbformat_minor": 5
}
